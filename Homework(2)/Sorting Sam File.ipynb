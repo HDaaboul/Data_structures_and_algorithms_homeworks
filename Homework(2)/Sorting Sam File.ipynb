{
 "cells": [
  {
   "cell_type": "markdown",
   "id": "2428cf0d-0b44-41fc-9b58-9708aee8aa63",
   "metadata": {},
   "source": [
    "# Data Structures and Algorithms\n",
    "## Student name: Hasan Daaboul\n",
    "### Homework Task: \n",
    "**Sort sam file by aligment position in [source1](https://github.com/samtools/samtools/tree/develop/examples) using insertion sort of nested lists**  \n",
    "**_Note:_ I published the SORTED_SAM file in the same folder of this python notebook on github**"
   ]
  },
  {
   "cell_type": "code",
   "execution_count": 1,
   "id": "5f1be9c6-1a8e-4717-a704-1993d8b91bfd",
   "metadata": {},
   "outputs": [],
   "source": [
    "# define insertion sort function, this function sort nested lists\n",
    "def insertionSort(mylist, key=lambda x: x):\n",
    "    for index in range(1, len(mylist)):\n",
    "        currentvalue = mylist[index]\n",
    "        position = index\n",
    "        while position > 0 and key(mylist[position - 1]) > key(currentvalue):\n",
    "            mylist[position] = mylist[position - 1]\n",
    "            position = position - 1\n",
    "        mylist[position] = currentvalue\n",
    "    return mylist"
   ]
  },
  {
   "cell_type": "code",
   "execution_count": 2,
   "id": "71d1d30a-cd19-401f-8632-3d15e897d0e6",
   "metadata": {},
   "outputs": [],
   "source": [
    "# read the sam file and create a nested lists contains sublists of aligment position and the entire information (line) for each sequence\n",
    "with open('/Users/HASAN/Desktop/Rosalind/ex1.sam', 'r') as sam_file:\n",
    "    lines = sam_file.readlines()\n",
    "records = []\n",
    "for line in lines:\n",
    "    if line.startswith('@'):\n",
    "        # Skip header lines starting with '@'\n",
    "        continue\n",
    "    fields = line.split('\\t')\n",
    "    position = int(fields[3])\n",
    "    records.append((position, line))\n"
   ]
  },
  {
   "cell_type": "code",
   "execution_count": 3,
   "id": "ef2fbce0-cb27-4df1-868f-15a0ba6e64dc",
   "metadata": {},
   "outputs": [],
   "source": [
    "# sort of lines by aligment position using insertion sort of nested lists\n",
    "sorted_records = insertionSort(records)"
   ]
  },
  {
   "cell_type": "code",
   "execution_count": 4,
   "id": "15d32f4a-8f4d-4c65-a710-77d02566d220",
   "metadata": {},
   "outputs": [],
   "source": [
    "# we can notice that there is no header in this sam file, so we will not write a header\n",
    "with open('SORTED_SAM_source(1).sam', 'w') as sorted_file:\n",
    "    for record in sorted_records:\n",
    "        sorted_file.write(record[1])"
   ]
  },
  {
   "cell_type": "markdown",
   "id": "20db5518-ec36-4cca-9f2d-f05487c11214",
   "metadata": {},
   "source": [
    "### To show the difference between the two files, I will print the firse ten lines from each file."
   ]
  },
  {
   "cell_type": "code",
   "execution_count": 5,
   "id": "534c1780-19b1-4f03-8b31-43058cb25882",
   "metadata": {},
   "outputs": [
    {
     "name": "stdout",
     "output_type": "stream",
     "text": [
      "B7_591:4:96:693:509\t73\tseq1\t1\t99\t36M\t*\t0\t0\tCACTAGTGGCTCATTGTAAATGTGTGGTTTAACTCG\t<<<<<<<<<<<<<<<;<<<<<<<<<5<<<<<;:<;7\tMF:i:18\tAq:i:73\tNM:i:0\tUQ:i:0\tH0:i:1\tH1:i:0\n",
      "\n",
      "EAS54_65:7:152:368:113\t73\tseq1\t3\t99\t35M\t*\t0\t0\tCTAGTGGCTCATTGTAAATGTGTGGTTTAACTCGT\t<<<<<<<<<<0<<<<655<<7<<<:9<<3/:<6):\tMF:i:18\tAq:i:66\tNM:i:0\tUQ:i:0\tH0:i:1\tH1:i:0\n",
      "\n",
      "EAS51_64:8:5:734:57\t137\tseq1\t5\t99\t35M\t*\t0\t0\tAGTGGCTCATTGTAAATGTGTGGTTTAACTCGTCC\t<<<<<<<<<<<7;71<<;<;;<7;<<3;);3*8/5\tMF:i:18\tAq:i:66\tNM:i:0\tUQ:i:0\tH0:i:1\tH1:i:0\n",
      "\n",
      "B7_591:1:289:587:906\t137\tseq1\t6\t63\t36M\t*\t0\t0\tGTGGCTCATTGTAATTTTTTGTTTTAACTCTTCTCT\t(-&----,----)-)-),'--)---',+-,),''*,\tMF:i:130\tAq:i:63\tNM:i:5\tUQ:i:38\tH0:i:0\tH1:i:0\n",
      "\n",
      "EAS56_59:8:38:671:758\t137\tseq1\t9\t99\t35M\t*\t0\t0\tGCTCATTGTAAATGTGTGGTTTAACTCGTCCATGG\t<<<<<<<<<<<<<<<;<;7<<<<<<<<7<<;:<5%\tMF:i:18\tAq:i:72\tNM:i:0\tUQ:i:0\tH0:i:1\tH1:i:0\n",
      "\n",
      "EAS56_61:6:18:467:281\t73\tseq1\t13\t99\t35M\t*\t0\t0\tATTGTAAATGTGTGGTTTAACTCGTCCCTGGCCCA\t<<<<<<<<;<<<8<<<<<;8:;6/686&;(16666\tMF:i:18\tAq:i:39\tNM:i:1\tUQ:i:5\tH0:i:0\tH1:i:1\n",
      "\n",
      "EAS114_28:5:296:340:699\t137\tseq1\t13\t99\t36M\t*\t0\t0\tATTGTAAATGTGTGGTTTAACTCGTCCATGGCCCAG\t<<<<<;<<<;<;<<<<<<<<<<<8<8<3<8;<;<0;\tMF:i:18\tAq:i:73\tNM:i:0\tUQ:i:0\tH0:i:1\tH1:i:0\n",
      "\n",
      "B7_597:6:194:894:408\t73\tseq1\t15\t99\t35M\t*\t0\t0\tTGTAAATGTGTGGTTTAACTCGTCCATTGCCCAGC\t<<<<<<<<<7<<;<<<<;<<<7;;<<<*,;;572<\tMF:i:18\tAq:i:43\tNM:i:1\tUQ:i:9\tH0:i:0\tH1:i:1\n",
      "\n",
      "EAS188_4:8:12:628:973\t89\tseq1\t18\t75\t35M\t*\t0\t0\tAAATGTGTGGTTTAACTCGTCCATGGCCCAGCATT\t==;=:;:;;:====;=;===:=======;==;===\tMF:i:64\tAq:i:0\tNM:i:0\tUQ:i:0\tH0:i:1\tH1:i:0\n",
      "\n",
      "EAS51_66:7:68:402:50\t137\tseq1\t22\t99\t35M\t*\t0\t0\tGTGTGGTTTAACTCGTCCATGGCCCAGCATTTGGG\t<<<<<<<<<<<<<<:<<<9<6;9;;&697;7&<55\tMF:i:18\tAq:i:66\tNM:i:1\tUQ:i:5\tH0:i:1\tH1:i:0\n",
      "\n"
     ]
    }
   ],
   "source": [
    "# original sam file\n",
    "for line in range(10):\n",
    "    print(lines[line])"
   ]
  },
  {
   "cell_type": "code",
   "execution_count": 6,
   "id": "e8e3a18b-b635-4957-97b2-9dbbe02ce6e0",
   "metadata": {},
   "outputs": [
    {
     "name": "stdout",
     "output_type": "stream",
     "text": [
      "B7_591:4:96:693:509\t73\tseq1\t1\t99\t36M\t*\t0\t0\tCACTAGTGGCTCATTGTAAATGTGTGGTTTAACTCG\t<<<<<<<<<<<<<<<;<<<<<<<<<5<<<<<;:<;7\tMF:i:18\tAq:i:73\tNM:i:0\tUQ:i:0\tH0:i:1\tH1:i:0\n",
      "\n",
      "B7_591:8:4:841:340\t73\tseq2\t1\t99\t36M\t*\t0\t0\tTTCAAATGAACTTCTGTAATTGAAAAATTCATTTAA\t<<<<<<<<;<<<<<<<<;<<<<<;<;:<<<<<<<;;\tMF:i:18\tAq:i:77\tNM:i:0\tUQ:i:0\tH0:i:1\tH1:i:0\n",
      "\n",
      "EAS54_67:4:142:943:582\t73\tseq2\t1\t99\t35M\t*\t0\t0\tTTCAAATGAACTTCTGTAATTGAAAAATTCATTTA\t<<<<<<;<<<<<<:<<;<<<<;<<<;<<<:;<<<5\tMF:i:18\tAq:i:41\tNM:i:0\tUQ:i:0\tH0:i:1\tH1:i:0\n",
      "\n",
      "EAS54_67:6:43:859:229\t153\tseq2\t1\t66\t35M\t*\t0\t0\tTTCAAATGAACTTCTGTAATTGAAAAATTCATTTA\t+37<=<.;<<7.;77<5<<0<<<;<<<27<<<<<<\tMF:i:32\tAq:i:0\tNM:i:0\tUQ:i:0\tH0:i:1\tH1:i:0\n",
      "\n",
      "EAS1_93:2:286:923:549\t73\tseq2\t2\t99\t35M\t*\t0\t0\tTCAAATGAACTTCTGTAATTGAAAAATTCATTTAA\t<<<<<<<<<<<<<<<<<<<<<<<<<<<<<<<<<<<\tMF:i:18\tAq:i:72\tNM:i:0\tUQ:i:0\tH0:i:1\tH1:i:0\n",
      "\n",
      "EAS54_65:7:152:368:113\t73\tseq1\t3\t99\t35M\t*\t0\t0\tCTAGTGGCTCATTGTAAATGTGTGGTTTAACTCGT\t<<<<<<<<<<0<<<<655<<7<<<:9<<3/:<6):\tMF:i:18\tAq:i:66\tNM:i:0\tUQ:i:0\tH0:i:1\tH1:i:0\n",
      "\n",
      "EAS1_99:8:117:578:853\t73\tseq2\t5\t99\t35M\t*\t0\t0\tAATGAACTTCTGTAATTGAAAAATTCATTTAAGAA\t<;<9<<<<<;<<;<<<<<<<<<<<,<98;<;;&92\tMF:i:18\tAq:i:43\tNM:i:0\tUQ:i:0\tH0:i:1\tH1:i:0\n",
      "\n",
      "EAS51_64:8:5:734:57\t137\tseq1\t5\t99\t35M\t*\t0\t0\tAGTGGCTCATTGTAAATGTGTGGTTTAACTCGTCC\t<<<<<<<<<<<7;71<<;<;;<7;<<3;);3*8/5\tMF:i:18\tAq:i:66\tNM:i:0\tUQ:i:0\tH0:i:1\tH1:i:0\n",
      "\n",
      "B7_591:1:289:587:906\t137\tseq1\t6\t63\t36M\t*\t0\t0\tGTGGCTCATTGTAATTTTTTGTTTTAACTCTTCTCT\t(-&----,----)-)-),'--)---',+-,),''*,\tMF:i:130\tAq:i:63\tNM:i:5\tUQ:i:38\tH0:i:0\tH1:i:0\n",
      "\n",
      "EAS188_4:5:302:997:951\t73\tseq2\t6\t69\t35M\t*\t0\t0\tATGAACTTCTGTAATTGAAAAATTCATTTAAGAAA\t<<<<<<<<<<;<<:<<52<<:;;<6<<;<:<2:9/\tMF:i:64\tAq:i:0\tNM:i:0\tUQ:i:0\tH0:i:1\tH1:i:0\n",
      "\n",
      "EAS1_105:7:289:472:86\t137\tseq2\t6\t99\t35M\t*\t0\t0\tATGAACTTCTGTAATTGAAAAATTCATTTAAGAAA\t<<<<<<<<<<<<<<<<<<<<<<<<<<<<<<<;;;;\tMF:i:18\tAq:i:30\tNM:i:0\tUQ:i:0\tH0:i:1\tH1:i:0\n",
      "\n"
     ]
    }
   ],
   "source": [
    "# sorted sam file\n",
    "iter = 0\n",
    "for record in sorted_records:\n",
    "    print(record[1])\n",
    "    if iter < 10:\n",
    "        iter += 1\n",
    "    else:\n",
    "        break"
   ]
  },
  {
   "cell_type": "markdown",
   "id": "afbb1319-466f-4a04-b6ff-f3d3d41e9242",
   "metadata": {},
   "source": [
    "## you can take a look at the sorted sam file [here](https://github.com/HDaaboul/Data_structures_and_algorithms_homeworks/blob/main/Homework(2)/SORTED_SAM_source(1).sam)"
   ]
  },
  {
   "cell_type": "markdown",
   "id": "ea9c021b-a0e1-4837-9d79-20c57539dc56",
   "metadata": {},
   "source": [
    "### The end of the homework"
   ]
  }
 ],
 "metadata": {
  "kernelspec": {
   "display_name": "Python 3 (ipykernel)",
   "language": "python",
   "name": "python3"
  },
  "language_info": {
   "codemirror_mode": {
    "name": "ipython",
    "version": 3
   },
   "file_extension": ".py",
   "mimetype": "text/x-python",
   "name": "python",
   "nbconvert_exporter": "python",
   "pygments_lexer": "ipython3",
   "version": "3.11.5"
  }
 },
 "nbformat": 4,
 "nbformat_minor": 5
}
