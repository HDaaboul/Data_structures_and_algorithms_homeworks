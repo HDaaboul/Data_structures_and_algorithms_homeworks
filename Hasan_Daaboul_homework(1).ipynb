{
 "cells": [
  {
   "cell_type": "markdown",
   "id": "6c911881",
   "metadata": {},
   "source": [
    "# Data Structures and Algorithms\n",
    "## Student name: Hasan Daaboul\n"
   ]
  },
  {
   "cell_type": "markdown",
   "id": "599118e9",
   "metadata": {},
   "source": [
    "## First task:\n",
    "## Estimation of the worst case time complexity of these three functions"
   ]
  },
  {
   "cell_type": "code",
   "execution_count": 1,
   "id": "c7a53739",
   "metadata": {},
   "outputs": [],
   "source": [
    "# The first function\n",
    "def func0(n):\n",
    "    if n == 0: return 1\n",
    "    return func0(n-1) + 5"
   ]
  },
  {
   "cell_type": "markdown",
   "id": "b2c78ee6",
   "metadata": {},
   "source": [
    "**The worst case time complexity of the first function is _O(n)_ cause it is a recrusive function that calls itself with n-1 as the argument, Each recursive call reduces the value of n by 1 until n reaches 0. Therefore, the function will be called n times**"
   ]
  },
  {
   "cell_type": "code",
   "execution_count": 2,
   "id": "2da76578",
   "metadata": {},
   "outputs": [],
   "source": [
    "# The second function\n",
    "def func1(n):\n",
    "    i = 1\n",
    "    while i < n:\n",
    "        i = i*2"
   ]
  },
  {
   "cell_type": "markdown",
   "id": "a2e4ed44",
   "metadata": {},
   "source": [
    "**The worst case time complexity of the second function is _O(log(n))_ uses a while loop that multiplies the value of 'i' by 2 in each iteration. This means that 'i' will grow exponentially with each iteration. The loop will continue until 'i' becomes greater than or equal to 'n'. Since 'i' is doubling in each iteration, the number of iterations required to reach 'n' will be logarithmic with respect to 'n'.**"
   ]
  },
  {
   "cell_type": "code",
   "execution_count": 3,
   "id": "a144c89c",
   "metadata": {},
   "outputs": [],
   "source": [
    "def func2(n):\n",
    "    if n == 1:\n",
    "        return False\n",
    "    i = 2\n",
    "    while i*i <= n:\n",
    "        if n % i  == 0:\n",
    "            return False\n",
    "        i+=1\n",
    "    return True "
   ]
  },
  {
   "cell_type": "markdown",
   "id": "dafe7fd1",
   "metadata": {},
   "source": [
    "**The worst case time complexity of the third function is O($\\sqrt(n)$), and to discuss this function that tells us _if the number is Prime or not Prime_, It uses a while loop that iterates from 2 to the square root of n. In each iteration, it checks if n is divisible by i. If it is, then n is not prime and the function returns False. If the loop completes without finding any divisors, then n is prime and the function returns True. The loop iterates up to the square root of n because if n is divisible by any number greater than its square root, then it must also be divisible by a number smaller than its square root.**"
   ]
  },
  {
   "cell_type": "markdown",
   "id": "c819fda2",
   "metadata": {},
   "source": [
    "## Second task: \n",
    "## Implementation of priority queue based on the binary heap in python with random test\n",
    "**_Note:_** The results will change from time to time cause I used _random_ library to assign values to the priority queue, if you need specific values, so you can assign them to the priority queue using **insert** function which I build it in the first section of the code.  \n",
    "  \n",
    "**sections of the code:**\n",
    "* define functions for binary heap and priority queue  \n",
    "* import random library and asking the user to enter the required number of elements in the priority queue  \n",
    "* creation of a priority queue (its length equals the inputed **number of elements** \n"
   ]
  },
  {
   "cell_type": "code",
   "execution_count": 4,
   "id": "be9e550d",
   "metadata": {},
   "outputs": [],
   "source": [
    "# Function to return the index of the parent node of a given node \n",
    "def parent(i) : \n",
    "    return (i - 1) // 2\n",
    "   \n",
    "# Function to return the index of the left child of the given node \n",
    "def leftChild(i) : \n",
    "    return ((2 * i) + 1)\n",
    "   \n",
    "# Function to return the index of the right child of the given node \n",
    "def rightChild(i) :\n",
    "    return ((2 * i) + 2)\n",
    "     \n",
    "# Function to shift up the node in order to maintain the heap property \n",
    "def shiftUp(i) : \n",
    "    while (i > 0 and H[parent(i)] < H[i]) :   \n",
    "        # Swap parent and current node \n",
    "        swap(parent(i), i)\n",
    "        # Update i to parent of i \n",
    "        i = parent(i)\n",
    "         \n",
    "# Function to shift down the node in order to maintain the heap property \n",
    "def shiftDown(i) : \n",
    "    maxIndex = i   \n",
    "    # Left Child \n",
    "    l = leftChild(i)    \n",
    "    if (l <= size and H[l] > H[maxIndex]) :  \n",
    "        maxIndex = l  \n",
    "    # Right Child \n",
    "    r = rightChild(i)   \n",
    "    if (r <= size and H[r] > H[maxIndex]) : \n",
    "        maxIndex = r  \n",
    "    # If i not same as maxIndex \n",
    "    if (i != maxIndex) :\n",
    "        swap(i, maxIndex)\n",
    "        shiftDown(maxIndex)\n",
    "         \n",
    "# Function to insert a new element in the Binary Heap \n",
    "# this function equals (enqueue)\n",
    "def insert(p) : \n",
    "    global size\n",
    "    size = size + 1\n",
    "    H[size] = p   \n",
    "    # Shift Up to maintain heap property \n",
    "    shiftUp(size)\n",
    "\n",
    "# Function to extract the element with maximum priority \n",
    "# this function equals (dequeue)\n",
    "def extractMax() :\n",
    "    global size\n",
    "    result = H[0]   \n",
    "    # Replace the value at the root with the last leaf \n",
    "    H[0] = H[size] \n",
    "    size = size - 1\n",
    "    # Shift down the replaced element to maintain the heap property \n",
    "    shiftDown(0)\n",
    "    return result\n",
    "\n",
    "# Function to get value of the current maximum element \n",
    "def getMax() :\n",
    "    return H[0]\n",
    "   \n",
    "# Function to remove the element located at given index \n",
    "def Remove(i) :\n",
    "    H[i] = getMax() + 1\n",
    "    # Shift the node to the root of the heap \n",
    "    shiftUp(i)  \n",
    "    # Extract the node \n",
    "    extractMax()\n",
    "\n",
    "def swap(i, j) : \n",
    "    temp = H[i]\n",
    "    H[i] = H[j] \n",
    "    H[j] = temp"
   ]
  },
  {
   "cell_type": "code",
   "execution_count": 5,
   "id": "b932a594",
   "metadata": {},
   "outputs": [
    {
     "name": "stdin",
     "output_type": "stream",
     "text": [
      "Enter the number of elements:  25\n"
     ]
    }
   ],
   "source": [
    "# I imported numpy to assign number values to the priority queue\n",
    "import random\n",
    "\n",
    "Heap_number_of_elements = int(input(\"Enter the number of elements: \"))\n",
    "# so let's say that you will need 25 elements in the priority queue\n",
    "# you can change this number whenever you want"
   ]
  },
  {
   "cell_type": "code",
   "execution_count": 6,
   "id": "cea608dd",
   "metadata": {},
   "outputs": [
    {
     "name": "stdout",
     "output_type": "stream",
     "text": [
      "Priority Queue : 98 94 85 87 89 76 74 41 47 85 81 64 61 2 72 20 23 7 16 5 13 55 24 13 37 \n",
      "Node with maximum priority : 98\n",
      "Priority queue after extracting maximum : 94 89 85 87 85 76 74 41 47 37 81 64 61 2 72 20 23 7 16 5 13 55 24 13 \n",
      "Priority queue after removing the element : 94 89 85 47 85 76 74 41 16 37 81 64 61 2 72 20 23 7 13 5 13 55 24 "
     ]
    }
   ],
   "source": [
    "\n",
    "# I will define a list contains 0 and its long is inputed number of elements in Heap that I will converted later to heap\n",
    "H = [0] * Heap_number_of_elements\n",
    "size = -1\n",
    "\n",
    "# Insert the random elements to the priority queue \n",
    "for element in range(Heap_number_of_elements):\n",
    "    insert(random.randint(1, 100))\n",
    "   \n",
    "\n",
    "   \n",
    "# Priority queue before extracting max \n",
    "i = 0\n",
    "print(\"Priority Queue : \", end = \"\") \n",
    "while (i <= size) : \n",
    "    print(H[i], end = \" \") \n",
    "    i += 1  \n",
    "print() \n",
    "   \n",
    "# Node with maximum priority \n",
    "print(\"Node with maximum priority :\" ,  extractMax()) \n",
    "   \n",
    "# Priority queue after extracting max \n",
    "print(\"Priority queue after extracting maximum : \", end = \"\") \n",
    "j = 0\n",
    "while (j <= size) : \n",
    "    print(H[j], end = \" \") \n",
    "    j += 1   \n",
    "print()\n",
    "   \n",
    "# Remove element at index 3 \n",
    "Remove(3)\n",
    "print(\"Priority queue after removing the element : \", end = \"\") \n",
    "l = 0\n",
    "while (l <= size) : \n",
    "    print(H[l], end = \" \") \n",
    "    l += 1"
   ]
  },
  {
   "cell_type": "markdown",
   "id": "e8961fcd",
   "metadata": {},
   "source": [
    "<p style=\"text-align: center;\">$ The     End       Of       The        Homework $</p>"
   ]
  }
 ],
 "metadata": {
  "kernelspec": {
   "display_name": "Python 3 (ipykernel)",
   "language": "python",
   "name": "python3"
  },
  "language_info": {
   "codemirror_mode": {
    "name": "ipython",
    "version": 3
   },
   "file_extension": ".py",
   "mimetype": "text/x-python",
   "name": "python",
   "nbconvert_exporter": "python",
   "pygments_lexer": "ipython3",
   "version": "3.11.5"
  }
 },
 "nbformat": 4,
 "nbformat_minor": 5
}
